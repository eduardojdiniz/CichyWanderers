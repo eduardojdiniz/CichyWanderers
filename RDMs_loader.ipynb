{
 "cells": [
  {
   "cell_type": "markdown",
   "metadata": {},
   "source": [
    "<a href=\"https://colab.research.google.com/github/eduardojdiniz/CichyWanderers/blob/b49ac01ec04b7d391eef75631c709dfd8661830c/RDMs_loader.ipynb\" target=\"_parent\"><img src=\"https://colab.research.google.com/assets/colab-badge.svg\" alt=\"Open In Colab\"/></a>"
   ]
  },
  {
   "cell_type": "markdown",
   "metadata": {},
   "source": [
    "# RDMs loader"
   ]
  },
  {
   "cell_type": "markdown",
   "metadata": {},
   "source": [
    "### Import CichyWanderers GitHub Repository"
   ]
  },
  {
   "cell_type": "code",
   "execution_count": null,
   "metadata": {},
   "outputs": [],
   "source": [
    "!git clone https://github.com/eduardojdiniz/CichyWanderers"
   ]
  },
  {
   "cell_type": "markdown",
   "metadata": {},
   "source": [
    "### Import Data loader"
   ]
  },
  {
   "cell_type": "code",
   "execution_count": null,
   "metadata": {},
   "outputs": [],
   "source": [
    "import CichyWanderers.dataloader as dataloader"
   ]
  },
  {
   "cell_type": "markdown",
   "metadata": {},
   "source": [
    "### Import AlexNet loader"
   ]
  },
  {
   "cell_type": "code",
   "execution_count": null,
   "metadata": {},
   "outputs": [],
   "source": [
    "import CichyWanderers.alexnet as alexnet "
   ]
  },
  {
   "cell_type": "markdown",
   "metadata": {},
   "source": [
    "### Download and create Cichy et al, 2014 dataset"
   ]
  },
  {
   "cell_type": "code",
   "execution_count": null,
   "metadata": {},
   "outputs": [],
   "source": [
    "_, RDM_dict, stim_dict = dataloader.create_dataset()"
   ]
  },
  {
   "cell_type": "markdown",
   "metadata": {},
   "source": [
    "### Download and create AlexNet model (pretrained on ImageNet) RDMs"
   ]
  },
  {
   "cell_type": "code",
   "execution_count": null,
   "metadata": {},
   "outputs": [],
   "source": [
    "alexnet_RDM_dict = alexnet.create_alexnet_RDM_dict()"
   ]
  },
  {
   "cell_type": "markdown",
   "metadata": {},
   "source": [
    "<details>\n",
    "    \n",
    "<summary><font color='blue'>Click here for details about the dictionaries structure</font>\n",
    "</summary>\n",
    "\n",
    "### Dictionaries structures\n",
    "    \n",
    "#### `RDM_dict`\n",
    "    RDM_dict: dict with keys 'MEG', 'fMRI_EVC', 'fMRI_IT'\n",
    "    'MEG'     : ndarray, (16, 2, 1301, 92, 92)\n",
    "        16 subjects, 2 sessions, 1301 time points (from -100 ms to 1200 ms\n",
    "        wrt to stimulus onset at 0 ms), 92 conditions by 92 conditions.\n",
    "        The last 2 dimensions form representational dissimilarity matrices of\n",
    "        decoding accuracies, symmetric accross the diagonal, with the diagonal\n",
    "        undefined (NaN).\n",
    "    'fMRI_EVC': ndarray, (15, 92, 92)\n",
    "        15 subjects, 92 conditions by 92 conditions.\n",
    "        The last 2 dimensions form a representational dissimilarity matrix of\n",
    "        spearman correlation for the EVC cortex, symmetric accross the diagonal,\n",
    "        with the diagonal undefined (NaN).\n",
    "    'fMRI_IT' : ndarray, (15, 92, 92)\n",
    "        15 subjects, 92 conditions by 92 conditions.\n",
    "        The last 2 dimensions form a representational dissimilarity matrix of\n",
    "        spearman correlation for the IT cortex, symmetric accross the diagonal,\n",
    "        with the diagonal undefined (NaN).\n",
    "        \n",
    "#### `stim_dict`        \n",
    "    stim_dict: dict with keys 'category', 'human', 'face', 'animate', 'natural', 'imagepath'\n",
    "    'category'  : list[str], indicating category\n",
    "    'human'     : list[int], indicating membership (0=not a member, 1=member)\n",
    "    'face'      : list[int], indicating membership (0=not a member, 1=member)\n",
    "    'animate'   : list[int], indicating membership (0=not a member, 1=member)\n",
    "    'natural'   : list[int], indicating membership (0=not a member, 1=member)\n",
    "    'imagepath' : list[str], jpeg image filepath\n",
    "\n",
    "#### `alexnet_RDM_dict`\n",
    "    alexnet_RDM_dict: dict with keys 'layer_1', ..., 'layer_8'\n",
    "    Each item is a ndarray, (92, 92), a representational dissimilarity matrix of\n",
    "    spearman correlation of the layer activation to each pair of visual stimuli\n",
    "    \n",
    "</details>"
   ]
  }
 ],
 "metadata": {
  "colab": {
   "collapsed_sections": [],
   "include_colab_link": true,
   "name": "RDMs_loader.ipynb",
   "provenance": [],
   "toc_visible": true
  },
  "kernelspec": {
   "display_name": "Python 3",
   "language": "python",
   "name": "python3"
  },
  "language_info": {
   "codemirror_mode": {
    "name": "ipython",
    "version": 3
   },
   "file_extension": ".py",
   "mimetype": "text/x-python",
   "name": "python",
   "nbconvert_exporter": "python",
   "pygments_lexer": "ipython3"
  }
 },
 "nbformat": 4,
 "nbformat_minor": 4
}
