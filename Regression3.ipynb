{
  "nbformat": 4,
  "nbformat_minor": 0,
  "metadata": {
    "colab": {
      "name": "Regression3.ipynb",
      "provenance": [],
      "collapsed_sections": [],
      "toc_visible": true
    },
    "kernelspec": {
      "display_name": "Python 3",
      "language": "python",
      "name": "python3"
    },
    "language_info": {
      "codemirror_mode": {
        "name": "ipython",
        "version": 3
      },
      "file_extension": ".py",
      "mimetype": "text/x-python",
      "name": "python",
      "nbconvert_exporter": "python",
      "pygments_lexer": "ipython3"
    }
  },
  "cells": [
    {
      "cell_type": "markdown",
      "metadata": {
        "id": "AxRGwDWkBZHM"
      },
      "source": [
        "<a href=\"https://colab.research.google.com/github/eduardojdiniz/CichyWanderers/blob/b49ac01ec04b7d391eef75631c709dfd8661830c/RDMs_loader.ipynb\" target=\"_parent\"><img src=\"https://colab.research.google.com/assets/colab-badge.svg\" alt=\"Open In Colab\"/></a>"
      ]
    },
    {
      "cell_type": "markdown",
      "metadata": {
        "id": "zs9IFPcdBZHN"
      },
      "source": [
        "# RDMs loader"
      ]
    },
    {
      "cell_type": "markdown",
      "metadata": {
        "id": "egcGo2zlBZHN"
      },
      "source": [
        "### Import CichyWanderers GitHub Repository"
      ]
    },
    {
      "cell_type": "code",
      "metadata": {
        "colab": {
          "base_uri": "https://localhost:8080/"
        },
        "id": "MBU-pu0aBZHN",
        "outputId": "525905e7-0520-4996-a42b-8c9139830795"
      },
      "source": [
        "!git clone https://github.com/eduardojdiniz/CichyWanderers"
      ],
      "execution_count": 1,
      "outputs": [
        {
          "output_type": "stream",
          "text": [
            "Cloning into 'CichyWanderers'...\n",
            "remote: Enumerating objects: 104, done.\u001b[K\n",
            "remote: Counting objects: 100% (104/104), done.\u001b[K\n",
            "remote: Compressing objects: 100% (67/67), done.\u001b[K\n",
            "remote: Total 104 (delta 52), reused 78 (delta 30), pack-reused 0\u001b[K\n",
            "Receiving objects: 100% (104/104), 368.56 KiB | 1.96 MiB/s, done.\n",
            "Resolving deltas: 100% (52/52), done.\n"
          ],
          "name": "stdout"
        }
      ]
    },
    {
      "cell_type": "markdown",
      "metadata": {
        "id": "e0dhYl_lBZHO"
      },
      "source": [
        "### Import Data loader"
      ]
    },
    {
      "cell_type": "code",
      "metadata": {
        "id": "ETvhce52BZHO"
      },
      "source": [
        "import CichyWanderers.dataloader as dataloader"
      ],
      "execution_count": 2,
      "outputs": []
    },
    {
      "cell_type": "markdown",
      "metadata": {
        "id": "8qeYuikKBZHO"
      },
      "source": [
        "### Import AlexNet loader"
      ]
    },
    {
      "cell_type": "code",
      "metadata": {
        "id": "-FY6iC1LBZHP"
      },
      "source": [
        "import CichyWanderers.alexnet as alexnet "
      ],
      "execution_count": 3,
      "outputs": []
    },
    {
      "cell_type": "markdown",
      "metadata": {
        "id": "qhS9qA-6BZHP"
      },
      "source": [
        "### Download and create Cichy et al, 2014 dataset"
      ]
    },
    {
      "cell_type": "code",
      "metadata": {
        "id": "6v7nKtd2BZHQ"
      },
      "source": [
        "_, RDM_dict, stim_dict = dataloader.create_dataset()"
      ],
      "execution_count": 4,
      "outputs": []
    },
    {
      "cell_type": "markdown",
      "metadata": {
        "id": "cBi6gmyZBZHQ"
      },
      "source": [
        "### Download and create AlexNet model (pretrained on ImageNet) RDMs"
      ]
    },
    {
      "cell_type": "code",
      "metadata": {
        "colab": {
          "base_uri": "https://localhost:8080/"
        },
        "id": "CX0TG7pBBZHQ",
        "outputId": "79f2a9a2-fb41-4065-e92b-bf913de874f1"
      },
      "source": [
        "alexnet_RDM_dict = alexnet.create_alexnet_RDM_dict()"
      ],
      "execution_count": 5,
      "outputs": [
        {
          "output_type": "stream",
          "text": [
            "\r  0%|          | 0/92 [00:00<?, ?it/s]/content/CichyWanderers/alexnet.py:204: UserWarning: To copy construct from a tensor, it is recommended to use sourceTensor.clone().detach() or sourceTensor.clone().detach().requires_grad_(True), rather than torch.tensor(sourceTensor).\n",
            "  input_img = torch.tensor(resize_normalize(img).unsqueeze(0))\n",
            "/usr/local/lib/python3.7/dist-packages/torch/nn/functional.py:718: UserWarning: Named tensors and all their associated APIs are an experimental feature and subject to change. Please do not use them for anything important until they are released as stable. (Triggered internally at  /pytorch/c10/core/TensorImpl.h:1156.)\n",
            "  return torch.max_pool2d(input, kernel_size, stride, padding, dilation, ceil_mode)\n",
            "100%|██████████| 92/92 [00:05<00:00, 16.98it/s]\n"
          ],
          "name": "stderr"
        }
      ]
    },
    {
      "cell_type": "markdown",
      "metadata": {
        "id": "xPibJPeSBZHQ"
      },
      "source": [
        "<details>\n",
        "    \n",
        "<summary><font color='blue'>Click here for details about the dictionaries structure</font>\n",
        "</summary>\n",
        "\n",
        "### Dictionaries structures\n",
        "    \n",
        "#### `RDM_dict`\n",
        "    RDM_dict: dict with keys 'MEG', 'fMRI_EVC', 'fMRI_IT'\n",
        "    'MEG'     : ndarray, (16, 2, 1301, 92, 92)\n",
        "        16 subjects, 2 sessions, 1301 time points (from -100 ms to 1200 ms\n",
        "        wrt to stimulus onset at 0 ms), 92 conditions by 92 conditions.\n",
        "        The last 2 dimensions form representational dissimilarity matrices of\n",
        "        decoding accuracies, symmetric accross the diagonal, with the diagonal\n",
        "        undefined (NaN).\n",
        "    'fMRI_EVC': ndarray, (15, 92, 92)\n",
        "        15 subjects, 92 conditions by 92 conditions.\n",
        "        The last 2 dimensions form a representational dissimilarity matrix of\n",
        "        spearman correlation for the EVC cortex, symmetric accross the diagonal,\n",
        "        with the diagonal undefined (NaN).\n",
        "    'fMRI_IT' : ndarray, (15, 92, 92)\n",
        "        15 subjects, 92 conditions by 92 conditions.\n",
        "        The last 2 dimensions form a representational dissimilarity matrix of\n",
        "        spearman correlation for the IT cortex, symmetric accross the diagonal,\n",
        "        with the diagonal undefined (NaN).\n",
        "        \n",
        "#### `stim_dict`        \n",
        "    stim_dict: dict with keys 'category', 'human', 'face', 'animate', 'natural', 'imagepath'\n",
        "    'category'  : list[str], indicating category\n",
        "    'human'     : list[int], indicating membership (0=not a member, 1=member)\n",
        "    'face'      : list[int], indicating membership (0=not a member, 1=member)\n",
        "    'animate'   : list[int], indicating membership (0=not a member, 1=member)\n",
        "    'natural'   : list[int], indicating membership (0=not a member, 1=member)\n",
        "    'imagepath' : list[str], jpeg image filepath\n",
        "\n",
        "#### `alexnet_RDM_dict`\n",
        "    alexnet_RDM_dict: dict with keys 'layer_1', ..., 'layer_8'\n",
        "    Each item is a ndarray, (92, 92), a representational dissimilarity matrix of\n",
        "    spearman correlation of the layer activation to each pair of visual stimuli\n",
        "    \n",
        "</details>"
      ]
    },
    {
      "cell_type": "code",
      "metadata": {
        "id": "A3tkXMxCEQ3i"
      },
      "source": [
        "# import\n",
        "import numpy as np\n",
        "from sklearn.linear_model import LinearRegression"
      ],
      "execution_count": 18,
      "outputs": []
    },
    {
      "cell_type": "code",
      "metadata": {
        "id": "jh_H5M1LCGGU"
      },
      "source": [
        "MEG_RDMs = RDM_dict['MEG']\n",
        "layer_1 = alexnet_RDM_dict['layer_1'] \n",
        "layer_2 = alexnet_RDM_dict['layer_2'] "
      ],
      "execution_count": 8,
      "outputs": []
    },
    {
      "cell_type": "code",
      "metadata": {
        "id": "JbS3BesODMCm"
      },
      "source": [
        "# average RDM across subjects and sessions\n",
        "MEG_RDM_sub_averaged = np.mean(MEG_RDMs,axis=(0,1))\n",
        "del MEG_RDMs"
      ],
      "execution_count": 11,
      "outputs": []
    },
    {
      "cell_type": "code",
      "metadata": {
        "id": "wb6iZZE0Eadf"
      },
      "source": [
        "# set upper triangular values to NaN\n",
        "\n",
        "dict_RDM = {}\n",
        "for timepoint in range(0,700):\n",
        "  # Load RDM at a given timepoint \n",
        "  # +100 as the RDMs provided are from -100ms to 1000ms after the stimulus onset\n",
        "  RDM = np.array(MEG_RDM_sub_averaged[timepoint])\n",
        "  # Since the matrix is symmetric we set upper triangular values to NaN\n",
        "  RDM[np.triu_indices(RDM.shape[0], 1)] = np.nan\n",
        "  dict_RDM['RDM_' + str(timepoint)] = RDM\n",
        "\n",
        "layer_1[np.triu_indices(layer_1.shape[0], 1)] = np.nan\n",
        "layer_2[np.triu_indices(layer_2.shape[0], 1)] = np.nan"
      ],
      "execution_count": 14,
      "outputs": []
    },
    {
      "cell_type": "code",
      "metadata": {
        "id": "PLpKbOQNFQ1D"
      },
      "source": [
        "####  preparing to run a simple regression model   ####\n",
        "\n",
        "dict_RDM_vect = {}\n",
        "il = np.tril_indices(92, k=-1) \n",
        "\n",
        "for i in range(0,700):\n",
        "  lala = dict_RDM[\"RDM_\"+ str(i)]\n",
        "  dict_RDM_vect['RDM_vect_' + str(i)] = np.asarray(lala[il]).reshape(-1) \n",
        "\n",
        "layer_1_vect = np.asarray(layer_1[il]).reshape(-1) \n",
        "layer_2_vect = np.asarray(layer_2[il]).reshape(-1) "
      ],
      "execution_count": 16,
      "outputs": []
    },
    {
      "cell_type": "code",
      "metadata": {
        "id": "Zfym-XxzFukF"
      },
      "source": [
        "# create arrays to save...\n",
        "\n",
        "# the r ** 2\n",
        "r_squ_l1 = []\n",
        "r_squ_l2 = []\n",
        "\n",
        "# intercept\n",
        "intercept_l1 =[]\n",
        "intercept_l2 =[]\n",
        "\n",
        "# slope\n",
        "slope_l1 = []\n",
        "slope_l2 = []\n",
        "\n",
        "# running the regression\n",
        "x1 = layer_1_vect.reshape((-1, 1))\n",
        "x2 = layer_2_vect.reshape((-1, 1))\n",
        "\n",
        "for i in range(0,700):\n",
        "\n",
        "  y = dict_RDM_vect[\"RDM_vect_\"+ str(i)].reshape((-1, 1))\n",
        "  \n",
        "  model1 = LinearRegression()\n",
        "  model2 = LinearRegression()\n",
        "  # y is the MEG data, and x is the DCNN layer 1/2 matrix\n",
        "  model1.fit(x1, y)\n",
        "  model2.fit(x2, y)\n",
        "\n",
        "  model1 = LinearRegression().fit(x1, y)\n",
        "  model2 = LinearRegression().fit(x2, y)\n",
        "  # r**2\n",
        "  r_squ_l1.append(model1.score(x1, y))\n",
        "  r_squ_l2.append(model2.score(x2, y))\n",
        "  # intercept\n",
        "  intercept_l1.append(model1.intercept_)\n",
        "  intercept_l2.append(model2.intercept_)\n",
        "  # slope\n",
        "  slope_l1.append(model1.coef_)\n",
        "  slope_l2.append(model2.coef_)"
      ],
      "execution_count": 19,
      "outputs": []
    },
    {
      "cell_type": "code",
      "metadata": {
        "id": "D8eecmHOHXXH"
      },
      "source": [
        "# get y_hat\n",
        "y_hat_l1 = np.zeros(shape=(x1.shape[0],len(intercept_l1)))\n",
        "y_hat_l2 = np.zeros(shape=(x2.shape[0],len(intercept_l2)))\n",
        "\n",
        "for n in range(0,len(intercept_l1)):\n",
        "  for i in range(0,x1.shape[0]):\n",
        "    y_hat_l1[i,n] = intercept_l1[n] + slope_l1[n] * x1[i,0]\n",
        "  for k in range(0,x2.shape[0]):\n",
        "    y_hat_l2[k,n] = intercept_l2[n] + slope_l2[n] * x2[k,0]"
      ],
      "execution_count": 21,
      "outputs": []
    },
    {
      "cell_type": "code",
      "metadata": {
        "id": "9OJyvtNvIvWz"
      },
      "source": [
        "# get the corrected_y_hat     # CORRECT THE ERROR\n",
        "corrected_y_hat_l1 = np.zeros(shape=(x1.shape[0],len(intercept_l1)))\n",
        "corrected_y_hat_l2 = np.zeros(shape=(x2.shape[0],len(intercept_l2)))\n",
        "\n",
        "\n",
        "for i in range(0,len(intercept_l1)):\n",
        "  y = dict_RDM_vect[\"RDM_vect_\"+ str(i)].reshape((-1, 1))\n",
        "  # for l1\n",
        "  corrected_y_hat_l1[:,i] = y.squeeze() - y_hat_l1[:,i] \n",
        "  # for l2\n",
        "  corrected_y_hat_l2[:,i] = y.squeeze() - y_hat_l2[:,i] "
      ],
      "execution_count": 29,
      "outputs": []
    }
  ]
}