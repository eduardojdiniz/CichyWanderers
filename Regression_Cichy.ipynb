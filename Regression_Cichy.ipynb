{
  "nbformat": 4,
  "nbformat_minor": 0,
  "metadata": {
    "colab": {
      "name": "Regression_Cichy.ipynb",
      "provenance": [],
      "collapsed_sections": [],
      "toc_visible": true
    },
    "kernelspec": {
      "display_name": "Python 3",
      "language": "python",
      "name": "python3"
    },
    "language_info": {
      "codemirror_mode": {
        "name": "ipython",
        "version": 3
      },
      "file_extension": ".py",
      "mimetype": "text/x-python",
      "name": "python",
      "nbconvert_exporter": "python",
      "pygments_lexer": "ipython3"
    }
  },
  "cells": [
    {
      "cell_type": "markdown",
      "metadata": {
        "id": "-xtpA1xFyyCx"
      },
      "source": [
        "<a href=\"https://colab.research.google.com/github/eduardojdiniz/CichyWanderers/blob/434f62e9b2b6f4e7aa1463cecdd17a6a91ab997f/load_AlexNet_RDMs.ipynb\" target=\"_parent\"><img src=\"https://colab.research.google.com/assets/colab-badge.svg\" alt=\"Open In Colab\"/></a>"
      ]
    },
    {
      "cell_type": "markdown",
      "metadata": {
        "id": "IH2sxpzRyyCx"
      },
      "source": [
        "#  AlexNet RDMs"
      ]
    },
    {
      "cell_type": "code",
      "metadata": {
        "id": "si3qwXnxyyCx"
      },
      "source": [
        "# Imports\n",
        "import torch\n",
        "from torchvision import transforms as trn\n",
        "from torch.autograd import Variable as V\n",
        "import torch.nn as nn\n",
        "import torch.utils.model_zoo as model_zoo\n",
        "from tqdm import tqdm\n",
        "import glob\n",
        "import numpy as np\n",
        "import urllib\n",
        "import os\n",
        "from PIL import Image\n",
        "from pathlib import Path"
      ],
      "execution_count": 1,
      "outputs": []
    },
    {
      "cell_type": "code",
      "metadata": {
        "id": "K4bwnTcQyyCx"
      },
      "source": [
        "# AlexNet Definition\n",
        "__all__ = ['AlexNet', 'alexnet']\n",
        "\n",
        "\n",
        "model_urls = {\n",
        "    'alexnet': 'https://download.pytorch.org/models/alexnet-owt-4df8aa71.pth',\n",
        "}\n",
        "\n",
        "# Here we redefine AlexNet differently from torchvision code for better understanding\n",
        "class AlexNet(nn.Module):\n",
        "    def __init__(self, num_classes=1000):\n",
        "        super(AlexNet, self).__init__()\n",
        "        self.conv1 = nn.Sequential(\n",
        "            nn.Conv2d(3, 64, kernel_size=11, stride=4, padding=2),\n",
        "            nn.ReLU(inplace=True),\n",
        "            nn.MaxPool2d(kernel_size=3, stride=2),\n",
        "            )\n",
        "        self.conv2 = nn.Sequential(\n",
        "            nn.Conv2d(64, 192, kernel_size=5, padding=2),\n",
        "            nn.ReLU(inplace=True),\n",
        "            nn.MaxPool2d(kernel_size=3, stride=2),\n",
        "            )\n",
        "        self.conv3 = nn.Sequential(\n",
        "            nn.Conv2d(192, 384, kernel_size=3, padding=1),\n",
        "            nn.ReLU(inplace=True),\n",
        "            )\n",
        "        self.conv4 = nn.Sequential(\n",
        "            nn.Conv2d(384, 256, kernel_size=3, padding=1),\n",
        "            nn.ReLU(inplace=True),\n",
        "            )\n",
        "        self.conv5 = nn.Sequential(\n",
        "            nn.Conv2d(256, 256, kernel_size=3, padding=1),\n",
        "            nn.ReLU(inplace=True),\n",
        "            nn.MaxPool2d(kernel_size=3, stride=2),\n",
        "            )\n",
        "        self.fc6 = nn.Sequential(\n",
        "            nn.Dropout(),\n",
        "            nn.Linear(256 * 6 * 6, 4096),\n",
        "            nn.ReLU(inplace=True),\n",
        "            )\n",
        "        self.fc7 =nn.Sequential(\n",
        "            nn.Dropout(),\n",
        "            nn.Linear(4096, 4096),\n",
        "            )\n",
        "        self.fc8 = nn.Sequential(\n",
        "            nn.ReLU(inplace=True),\n",
        "            nn.Linear(4096, num_classes),\n",
        "            )\n",
        "\n",
        "    def forward(self, x):\n",
        "        out1 = self.conv1(x)\n",
        "        out2 = self.conv2(out1)\n",
        "        out3 = self.conv3(out2)\n",
        "        out4 = self.conv4(out3)\n",
        "        out5 = self.conv5(out4)\n",
        "\n",
        "        out5_reshaped = out5.view(out5.size(0), 256 * 6 * 6)\n",
        "        out6= self.fc6(out5_reshaped)\n",
        "        out7= self.fc7(out6)\n",
        "        out8 = self.fc8(out7)\n",
        "        return out1, out2, out3,out4, out5, out6,out7,out8\n",
        "\n",
        "\n",
        "def alexnet(pretrained=False, **kwargs):\n",
        "    \"\"\"AlexNet model architecture from the\n",
        "    `\"One weird trick...\" <https://arxiv.org/abs/1404.5997>`_ paper.\n",
        "    Args:\n",
        "        pretrained (bool): If True, returns a model pre-trained on ImageNet\n",
        "    \"\"\"\n",
        "    model = AlexNet(**kwargs)\n",
        "    if pretrained:\n",
        "        model.load_state_dict(model_zoo.load_url(model_urls['alexnet']))\n",
        "    return model "
      ],
      "execution_count": 2,
      "outputs": []
    },
    {
      "cell_type": "code",
      "metadata": {
        "id": "sKhR1fjcyyCy"
      },
      "source": [
        "# Feature extraction code\n",
        "def load_alexnet(model_checkpoints):\n",
        "    \"\"\"This function initializes an Alexnet and load\n",
        "    its weights from a pretrained model. Since we redefined model in a different\n",
        "    way we have to rename the weights that were in the pretrained checkpoint.\n",
        "    ----------\n",
        "    model_checkpoints : str\n",
        "        model checkpoints location.\n",
        "    Returns\n",
        "    -------\n",
        "    model\n",
        "        pytorch model of alexnet\n",
        "    \"\"\"\n",
        "\n",
        "    model = alexnet()\n",
        "    # Load checkpoint\n",
        "    model_file = model_checkpoints\n",
        "    checkpoint = torch.load(model_file, map_location=lambda storage, loc: storage)\n",
        "\n",
        "    # Rename the checkpoint keys according to new definition\n",
        "    model_dict =[\"conv1.0.weight\", \"conv1.0.bias\", \"conv2.0.weight\", \"conv2.0.bias\", \"conv3.0.weight\", \"conv3.0.bias\", \"conv4.0.weight\", \"conv4.0.bias\", \"conv5.0.weight\", \"conv5.0.bias\", \"fc6.1.weight\", \"fc6.1.bias\", \"fc7.1.weight\", \"fc7.1.bias\", \"fc8.1.weight\", \"fc8.1.bias\"]\n",
        "    state_dict={}\n",
        "    i=0\n",
        "    for k,v in checkpoint.items():\n",
        "        state_dict[model_dict[i]] =  v\n",
        "        i+=1\n",
        "\n",
        "    # initialize model with pretrained weights \n",
        "    model.load_state_dict(state_dict)\n",
        "    if torch.cuda.is_available():\n",
        "        model.cuda()\n",
        "    model.eval()\n",
        "    return model\n",
        "\n",
        "def get_activations_and_save(model, image_list, activations_dir):\n",
        "    \"\"\"This function generates Alexnet features and save them in a specified directory.\n",
        "    Parameters\n",
        "    ----------\n",
        "    model :\n",
        "        pytorch model : alexnet.\n",
        "    image_list : list\n",
        "        the list contains path to all images.\n",
        "    activations_dir : str\n",
        "        save path for extracted features.\n",
        "    \"\"\"\n",
        "\n",
        "    resize_normalize = trn.Compose([\n",
        "            trn.Resize((224,224)),\n",
        "            trn.ToTensor(),\n",
        "            trn.Normalize([0.485, 0.456, 0.406], [0.229, 0.224, 0.225])])\n",
        "\n",
        "    # for all images in the list generate and save activations\n",
        "    for image_file in tqdm(image_list):\n",
        "        \n",
        "        # open image\n",
        "        img = Image.open(image_file)\n",
        "        image_file_name = os.path.split(image_file)[-1].split(\".\")[0]\n",
        "\n",
        "        # apply transformations before feeding to model\n",
        "        input_img = V(resize_normalize(img).unsqueeze(0))\n",
        "        if torch.cuda.is_available():\n",
        "            input_img=input_img.cuda()\n",
        "        x = model.forward(input_img)\n",
        "\n",
        "        activations = []\n",
        "        for i,feat in enumerate(x):\n",
        "            activations.append(feat.data.cpu().numpy().ravel())\n",
        "\n",
        "        for layer in range(len(activations)):\n",
        "            save_path = os.path.join(activations_dir, image_file_name+\"_\"+\"layer\" + \"_\" + str(layer+1) + \".npy\")\n",
        "            np.save(save_path,activations[layer])\n"
      ],
      "execution_count": 3,
      "outputs": []
    },
    {
      "cell_type": "code",
      "metadata": {
        "id": "MkLdfdJLyyCy",
        "colab": {
          "base_uri": "https://localhost:8080/"
        },
        "outputId": "474eb3e0-6c87-4797-f7b1-b495769943f7"
      },
      "source": [
        "# get the paths to all the images in the stimulus set\n",
        "\n",
        "image_dir = 'data/92_Image_Set/92images'\n",
        "\n",
        "if not os.path.exists(image_dir):\n",
        "    # Data download\n",
        "    Path(\"data\").mkdir(parents=True, exist_ok=True)\n",
        "    !wget -qO data/data.zip -c https://osf.io/7vpyh/download\n",
        "    !unzip -o data/data.zip -d data #unzip the files\n",
        "    \n",
        "image_list = glob.glob(image_dir + '/*.jpg')\n",
        "image_list.sort()\n",
        "print('Total Number of Images: ', len(image_list))\n",
        "cwd = os.getcwd() # get current working directory\n",
        "save_dir = os.path.join(cwd, \"model/activations_alexnet\")\n",
        "if not os.path.exists(save_dir):\n",
        "    os.makedirs(save_dir)\n",
        "\n",
        "######### load Alexnet initialized with pretrained weights ###################\n",
        "# Download pretrained Alexnet from:\n",
        "# https://download.pytorch.org/models/alexnet-owt-4df8aa71.pth\n",
        "# and save in the current directory\n",
        "checkpoint_path = os.path.join(cwd, \"model/alexnet.pth\")\n",
        "if not os.path.exists(checkpoint_path):\n",
        "    url = \"https://download.pytorch.org/models/alexnet-owt-4df8aa71.pth\"\n",
        "    urllib.request.urlretrieve(url, checkpoint_path)\n",
        "model = load_alexnet(checkpoint_path)\n",
        "##############################################################################\n",
        "\n",
        "######### get and save activations ################################\n",
        "activations_dir = os.path.join(save_dir)\n",
        "if not os.path.exists(activations_dir):\n",
        "    os.makedirs(activations_dir)\n",
        "print(\"-------------Saving activations ----------------------------\")\n",
        "get_activations_and_save(model, image_list, activations_dir)\n",
        "###################################################################"
      ],
      "execution_count": 4,
      "outputs": [
        {
          "output_type": "stream",
          "text": [
            "Archive:  data/data.zip\n",
            "  inflating: data/92_Image_Set/ReadMe_92ImageSet.docx  \n",
            "  inflating: data/92_Image_Set/92images/image_62.jpg  \n",
            "  inflating: data/92_Image_Set/92images/image_74.jpg  \n",
            "  inflating: data/92_Image_Set/92images/image_79.jpg  \n",
            "  inflating: data/92_Image_Set/92images/image_73.jpg  \n",
            "  inflating: data/92_Image_Set/92images/image_86.jpg  \n",
            "  inflating: data/92_Image_Set/92images/image_92.jpg  \n",
            "  inflating: data/92_Image_Set/92images/image_89.jpg  \n",
            "  inflating: data/92_Image_Set/92images/image_90.jpg  \n",
            "  inflating: data/92_Image_Set/92images/image_63.jpg  \n",
            "  inflating: data/92_Image_Set/92images/image_82.jpg  \n",
            "  inflating: data/92_Image_Set/92images/image_81.jpg  \n",
            "  inflating: data/92_Image_Set/92images/image_91.jpg  \n",
            "  inflating: data/92_Image_Set/92images/image_87.jpg  \n",
            "  inflating: data/92_Image_Set/92images/image_77.jpg  \n",
            "  inflating: data/92_Image_Set/92images/image_88.jpg  \n",
            "  inflating: data/92_Image_Set/92images/image_64.jpg  \n",
            "  inflating: data/92_Image_Set/92images/image_80.jpg  \n",
            "  inflating: data/92_Image_Set/92images/image_72.jpg  \n",
            "  inflating: data/92_Image_Set/92images/image_76.jpg  \n",
            "  inflating: data/92_Image_Set/92images/image_84.jpg  \n",
            "  inflating: data/92_Image_Set/92images/image_75.jpg  \n",
            "  inflating: data/92_Image_Set/92images/image_85.jpg  \n",
            "  inflating: data/92_Image_Set/92images/image_83.jpg  \n",
            "  inflating: data/92_Image_Set/92images/image_68.jpg  \n",
            "  inflating: data/92_Image_Set/92images/image_78.jpg  \n",
            "  inflating: data/92_Image_Set/92images/image_49.jpg  \n",
            "  inflating: data/92_Image_Set/92images/image_43.jpg  \n",
            "  inflating: data/92_Image_Set/92images/image_46.jpg  \n",
            "  inflating: data/92_Image_Set/92images/image_47.jpg  \n",
            "  inflating: data/92_Image_Set/92images/image_66.jpg  \n",
            "  inflating: data/92_Image_Set/92images/image_59.jpg  \n",
            "  inflating: data/92_Image_Set/92images/image_45.jpg  \n",
            "  inflating: data/92_Image_Set/92images/image_55.jpg  \n",
            "  inflating: data/92_Image_Set/92images/image_58.jpg  \n",
            "  inflating: data/92_Image_Set/92images/image_60.jpg  \n",
            "  inflating: data/92_Image_Set/92images/image_51.jpg  \n",
            "  inflating: data/92_Image_Set/92images/image_50.jpg  \n",
            "  inflating: data/92_Image_Set/92images/image_69.jpg  \n",
            "  inflating: data/92_Image_Set/92images/image_54.jpg  \n",
            "  inflating: data/92_Image_Set/92images/image_48.jpg  \n",
            "  inflating: data/92_Image_Set/92images/image_56.jpg  \n",
            "  inflating: data/92_Image_Set/92images/image_65.jpg  \n",
            "  inflating: data/92_Image_Set/92images/image_61.jpg  \n",
            "  inflating: data/92_Image_Set/92images/image_71.jpg  \n",
            "  inflating: data/92_Image_Set/92images/image_53.jpg  \n",
            "  inflating: data/92_Image_Set/92images/image_67.jpg  \n",
            "  inflating: data/92_Image_Set/92images/image_52.jpg  \n",
            "  inflating: data/92_Image_Set/92images/image_70.jpg  \n",
            "  inflating: data/92_Image_Set/92images/image_44.jpg  \n",
            "  inflating: data/92_Image_Set/92images/image_57.jpg  \n",
            "  inflating: data/92_Image_Set/92images.mat  \n",
            "  inflating: data/92_Image_Set/92images/image_33.jpg  \n",
            "  inflating: data/92_Image_Set/92images/image_40.jpg  \n",
            "  inflating: data/92_Image_Set/92images/image_26.jpg  \n",
            "  inflating: data/92_Image_Set/92images/image_41.jpg  \n",
            "  inflating: data/92_Image_Set/92images/image_21.jpg  \n",
            "  inflating: data/92_Image_Set/92images/image_28.jpg  \n",
            "  inflating: data/92_Image_Set/92images/image_31.jpg  \n",
            "  inflating: data/92_Image_Set/92images/image_27.jpg  \n",
            "  inflating: data/92_Image_Set/92images/image_39.jpg  \n",
            "  inflating: data/92_Image_Set/92images/image_36.jpg  \n",
            "  inflating: data/92_Image_Set/92images/image_25.jpg  \n",
            "  inflating: data/92_Image_Set/92images/image_29.jpg  \n",
            "  inflating: data/92_Image_Set/92images/image_42.jpg  \n",
            "  inflating: data/92_Image_Set/92images/image_30.jpg  \n",
            "  inflating: data/92_Image_Set/92images/image_18.jpg  \n",
            "  inflating: data/92_Image_Set/92images/image_16.jpg  \n",
            "  inflating: data/92_Image_Set/92images/image_35.jpg  \n",
            "  inflating: data/92_Image_Set/92images/image_15.jpg  \n",
            "  inflating: data/92_Image_Set/92images/image_37.jpg  \n",
            "  inflating: data/92_Image_Set/92images/image_24.jpg  \n",
            "  inflating: data/92_Image_Set/92images/image_38.jpg  \n",
            "  inflating: data/92_Image_Set/92images/image_19.jpg  \n",
            "  inflating: data/92_Image_Set/92images/image_17.jpg  \n",
            "  inflating: data/92_Image_Set/92images/image_32.jpg  \n",
            "  inflating: data/92_Image_Set/92images/image_34.jpg  \n",
            "  inflating: data/92_Image_Set/92images/image_22.jpg  \n",
            "  inflating: data/92_Image_Set/92images/image_20.jpg  \n",
            "  inflating: data/92_Image_Set/92images/image_05.jpg  \n",
            "  inflating: data/92_Image_Set/92images/image_09.jpg  \n",
            "  inflating: data/92_Image_Set/92images/image_02.jpg  \n",
            "  inflating: data/92_Image_Set/92images/image_10.jpg  \n",
            "  inflating: data/92_Image_Set/target_fmri.mat  \n",
            "  inflating: data/92_Image_Set/92images/image_01.jpg  \n",
            "  inflating: data/92_Image_Set/92images/image_03.jpg  \n",
            "  inflating: data/92_Image_Set/92images/image_11.jpg  \n",
            "  inflating: data/92_Image_Set/92images/image_04.jpg  \n",
            "  inflating: data/92_Image_Set/92images/image_13.jpg  \n",
            "  inflating: data/92_Image_Set/92images/image_07.jpg  \n",
            "  inflating: data/92_Image_Set/92images/image_12.jpg  \n",
            "  inflating: data/92_Image_Set/92images/image_08.jpg  \n",
            "  inflating: data/92_Image_Set/92images/image_06.jpg  \n",
            "  inflating: data/92_Image_Set/92images/image_23.jpg  \n",
            "  inflating: data/92_Image_Set/92images/image_14.jpg  \n",
            "  inflating: data/92_Image_Set/target_meg.mat  \n",
            "  inflating: data/MEG_decoding_RDMs.mat  \n",
            "Total Number of Images:  92\n"
          ],
          "name": "stdout"
        },
        {
          "output_type": "stream",
          "text": [
            "\r  0%|          | 0/92 [00:00<?, ?it/s]"
          ],
          "name": "stderr"
        },
        {
          "output_type": "stream",
          "text": [
            "-------------Saving activations ----------------------------\n"
          ],
          "name": "stdout"
        },
        {
          "output_type": "stream",
          "text": [
            "/usr/local/lib/python3.7/dist-packages/torch/nn/functional.py:718: UserWarning: Named tensors and all their associated APIs are an experimental feature and subject to change. Please do not use them for anything important until they are released as stable. (Triggered internally at  /pytorch/c10/core/TensorImpl.h:1156.)\n",
            "  return torch.max_pool2d(input, kernel_size, stride, padding, dilation, ceil_mode)\n",
            "100%|██████████| 92/92 [00:06<00:00, 13.53it/s]\n"
          ],
          "name": "stderr"
        }
      ]
    },
    {
      "cell_type": "code",
      "metadata": {
        "id": "6DSzwgaNyyCz"
      },
      "source": [
        "cwd = os.getcwd() # get current working directory\n",
        "activations_dir = os.path.join(cwd, \"model/activations_alexnet\")\n",
        "def get_Model_RDM_dict(activations_dir=activations_dir):\n",
        "    num_layers = 8  # number of layers in the model\n",
        "    layers = []\n",
        "\n",
        "    for i in range(num_layers):\n",
        "      layers.append(\"layer\" + \"_\" + str(i+1))\n",
        "\n",
        "    Model_RDM_dict = {}\n",
        "\n",
        "    # create RDM for each layer from activations\n",
        "    for layer in layers:\n",
        "        activation_files = glob.glob(activations_dir + '/*' + layer + '.npy')\n",
        "        activation_files.sort()\n",
        "        activations = []\n",
        "        \n",
        "        # Load all activations\n",
        "        for activation_file  in activation_files:\n",
        "            activations.append(np.load(activation_file))\n",
        "        activations = np.array(activations)\n",
        "        \n",
        "        # calculate Pearson's distance for all pairwise comparisons \n",
        "        Model_RDM_dict[layer] = 1-np.corrcoef(activations)\n",
        "        \n",
        "    return Model_RDM_dict"
      ],
      "execution_count": 5,
      "outputs": []
    },
    {
      "cell_type": "code",
      "metadata": {
        "id": "OzH4O6R6yyCz"
      },
      "source": [
        "Model_RDM_dict = get_Model_RDM_dict()"
      ],
      "execution_count": 6,
      "outputs": []
    },
    {
      "cell_type": "code",
      "metadata": {
        "id": "PQi3_u9F5QEI"
      },
      "source": [
        "#layer = Model_RDM_dict['layer_1']\n",
        "layer = Model_RDM_dict['layer_2']"
      ],
      "execution_count": 68,
      "outputs": []
    },
    {
      "cell_type": "code",
      "metadata": {
        "id": "0oUfvVXg6uxf"
      },
      "source": [
        "#@title Imports\n",
        "import glob\n",
        "import numpy as np\n",
        "import urllib\n",
        "import torch\n",
        "import cv2\n",
        "import argparse\n",
        "import time\n",
        "import random\n",
        "import matplotlib.pyplot as plt\n",
        "import nibabel as nib\n",
        "import pickle\n",
        "from tqdm import tqdm\n",
        "from PIL import Image\n",
        "from torchvision import transforms as trn\n",
        "import scipy.io as sio\n",
        "import h5py\n",
        "import os\n",
        "from PIL import Image\n",
        "from sklearn.preprocessing import StandardScaler\n",
        "from torch.autograd import Variable as V\n",
        "from sklearn.decomposition import PCA, IncrementalPCA\n",
        "import torch.nn as nn\n",
        "import torch.utils.model_zoo as model_zoo\n",
        "\n",
        "def loadmat(matfile):\n",
        "    \"\"\"Function to load .mat files.\n",
        "    Parameters\n",
        "    ----------\n",
        "    matfile : str\n",
        "        path to `matfile` containing fMRI data for a given trial.\n",
        "    Returns\n",
        "    -------\n",
        "    dict\n",
        "        dictionary containing data in key 'vol' for a given trial.\n",
        "    \"\"\"\n",
        "    try:\n",
        "        f = h5py.File(matfile)\n",
        "    except (IOError, OSError):\n",
        "        return sio.loadmat(matfile)\n",
        "    else:\n",
        "        return {name: np.transpose(f.get(name)) for name in f.keys()}"
      ],
      "execution_count": 69,
      "outputs": []
    },
    {
      "cell_type": "code",
      "metadata": {
        "id": "V0dko6435sqV"
      },
      "source": [
        "# Prepare the DSM MEG\n",
        "!wget -qO data.zip -c https://osf.io/7vpyh/download"
      ],
      "execution_count": 70,
      "outputs": []
    },
    {
      "cell_type": "code",
      "metadata": {
        "id": "EJlWzn_p6V_l"
      },
      "source": [
        "%%capture\n",
        "!unzip -o data.zip #unzip the files"
      ],
      "execution_count": 71,
      "outputs": []
    },
    {
      "cell_type": "code",
      "metadata": {
        "id": "gyJhoQhQ6age"
      },
      "source": [
        "# Load MEG RDMs for each time point for all subjects all sessions\n",
        "MEG_RDMs = loadmat(\"MEG_decoding_RDMs.mat\")['MEG_decoding_RDMs']\n",
        "\n",
        "# average RDM across subjects and sessions\n",
        "MEG_RDM_sub_averaged = np.mean(MEG_RDMs,axis=(0,1))\n",
        "del MEG_RDMs"
      ],
      "execution_count": 87,
      "outputs": []
    },
    {
      "cell_type": "code",
      "metadata": {
        "id": "DloJL9WJ6KQI"
      },
      "source": [
        "dict_RDM = {}\n",
        "\n",
        "for i in range(0,700):\n",
        "  #@title visualize subject averaged MEG RDMs\n",
        "  timepoint = i ###@#param {type:\"slider\", min:-100, max:600, step:20}\n",
        "\n",
        "  # Load RDM at a given timepoint \n",
        "  # +100 as the RDMs provided are from -100ms to 1000ms after the stimulus onset\n",
        "  RDM = np.array(MEG_RDM_sub_averaged[timepoint])\n",
        "  # Since the matrix is symmetric we set upper triangular values to NaN\n",
        "  RDM[np.triu_indices(RDM.shape[0], 1)] = np.nan\n",
        "  dict_RDM['RDM_' + str(i)] = RDM\n",
        "\n",
        "\n",
        "layer[np.triu_indices(layer.shape[0], 1)] = np.nan\n",
        "\n",
        "## plot the RDM at given timepoint\n",
        "#plt.imshow(dict_RDM['RDM_' + str(2)],\\\n",
        "           #cmap=\"bwr\")\n",
        "#plt.title(\"MEG RDM at t = \" + str(timepoint))\n",
        "#cbar = plt.colorbar()\n",
        "#plt.xlabel(\"Stimuli\")\n",
        "#plt.ylabel(\"Stimuli\")\n",
        "#cbar.ax.get_yaxis().labelpad = 15\n",
        "#cbar.ax.set_ylabel('Decoding Accuracy', rotation=270)"
      ],
      "execution_count": 88,
      "outputs": []
    },
    {
      "cell_type": "code",
      "metadata": {
        "colab": {
          "base_uri": "https://localhost:8080/"
        },
        "id": "LaE005ElKnyN",
        "outputId": "785ca77a-4a6e-49bf-abf8-e5ae0eda7b3d"
      },
      "source": [
        "print(dict_RDM[\"RDM_2\"])\n",
        "print(dict_RDM[\"RDM_35\"])"
      ],
      "execution_count": 89,
      "outputs": [
        {
          "output_type": "stream",
          "text": [
            "[[      nan       nan       nan ...       nan       nan       nan]\n",
            " [49.1875         nan       nan ...       nan       nan       nan]\n",
            " [50.125    48.0625         nan ...       nan       nan       nan]\n",
            " ...\n",
            " [49.34375  50.078125 49.984375 ...       nan       nan       nan]\n",
            " [50.4375   46.375    50.765625 ... 52.734375       nan       nan]\n",
            " [49.171875 49.328125 51.46875  ... 45.9375   48.875          nan]]\n",
            "[[      nan       nan       nan ...       nan       nan       nan]\n",
            " [49.4375         nan       nan ...       nan       nan       nan]\n",
            " [48.390625 49.09375        nan ...       nan       nan       nan]\n",
            " ...\n",
            " [53.265625 51.09375  52.734375 ...       nan       nan       nan]\n",
            " [49.890625 50.421875 47.828125 ... 50.796875       nan       nan]\n",
            " [49.46875  49.734375 49.296875 ... 51.8125   51.078125       nan]]\n"
          ],
          "name": "stdout"
        }
      ]
    },
    {
      "cell_type": "code",
      "metadata": {
        "id": "jqJ_zCFS7HmB"
      },
      "source": [
        "####  run a simple regression model   ####"
      ],
      "execution_count": 90,
      "outputs": []
    },
    {
      "cell_type": "code",
      "metadata": {
        "id": "VdmglvTL7KvZ"
      },
      "source": [
        "dict_RDM_vect = {}\n",
        "il = np.tril_indices(92, k=-1) \n",
        "\n",
        "for i in range(0,700):\n",
        "  lala = dict_RDM[\"RDM_\"+ str(i)]\n",
        "  dict_RDM_vect['RDM_vect_' + str(i)] = np.asarray(lala[il]).reshape(-1) \n",
        "\n",
        "layer_vect = np.asarray(layer[il]).reshape(-1) \n"
      ],
      "execution_count": 91,
      "outputs": []
    },
    {
      "cell_type": "code",
      "metadata": {
        "colab": {
          "base_uri": "https://localhost:8080/"
        },
        "id": "bBYRCELwPW66",
        "outputId": "f5d1c0e2-e7cc-411a-e23c-f7ba3d3125d9"
      },
      "source": [
        "#print(dict_RDM_vect[\"RDM_vect_2\"] == dict_RDM_vect[\"RDM_vect_4\"]) # oh no!\n",
        "print(dict_RDM_vect['RDM_vect_' + str(3)])\n",
        "print(dict_RDM_vect['RDM_vect_' + str(5)])"
      ],
      "execution_count": 92,
      "outputs": [
        {
          "output_type": "stream",
          "text": [
            "[48.265625 49.3125   49.96875  ... 51.265625 47.421875 48.28125 ]\n",
            "[49.109375 48.59375  47.546875 ... 48.484375 47.859375 48.625   ]\n"
          ],
          "name": "stdout"
        }
      ]
    },
    {
      "cell_type": "code",
      "metadata": {
        "colab": {
          "base_uri": "https://localhost:8080/"
        },
        "id": "4WOZhyaYCp26",
        "outputId": "3411622e-0016-4a70-c368-4f42c450bbb6"
      },
      "source": [
        "# checking everything is okey \n",
        "print(layer_vect.shape)\n",
        "\n",
        "print(((92*92)/2)-(92/2))"
      ],
      "execution_count": 93,
      "outputs": [
        {
          "output_type": "stream",
          "text": [
            "(4186,)\n",
            "4186.0\n"
          ],
          "name": "stdout"
        }
      ]
    },
    {
      "cell_type": "code",
      "metadata": {
        "colab": {
          "base_uri": "https://localhost:8080/"
        },
        "id": "WSfV0A6p8K5Z",
        "outputId": "a9cbba6c-81c8-4599-9426-3c7770959958"
      },
      "source": [
        "\n",
        "print(RDM.shape)\n",
        "print(layer.shape)"
      ],
      "execution_count": 94,
      "outputs": [
        {
          "output_type": "stream",
          "text": [
            "(92, 92)\n",
            "(92, 92)\n"
          ],
          "name": "stdout"
        }
      ]
    },
    {
      "cell_type": "code",
      "metadata": {
        "id": "782IBCET7uYy"
      },
      "source": [
        "# create arrays to save...\n",
        "\n",
        "# the r ** 2\n",
        "r_squ = []\n",
        "\n",
        "# intercept\n",
        "intercept =[]\n",
        "\n",
        "# slope\n",
        "slope = []\n",
        "\n",
        "\n",
        "# num.append(i)\n",
        "\n",
        "\n",
        "# running the regression\n",
        "import numpy as np\n",
        "from sklearn.linear_model import LinearRegression\n",
        "\n",
        "x = layer_vect.reshape((-1, 1))\n",
        "\n",
        "for i in range(0,700):\n",
        "\n",
        "  y = dict_RDM_vect[\"RDM_vect_\"+ str(i)].reshape((-1, 1))\n",
        "  model = LinearRegression()\n",
        "  # y is the meg matrix, and x is the DCNN layer 1/2 matrix\n",
        "  model.fit(x, y)\n",
        "\n",
        "  model = LinearRegression().fit(x, y)\n",
        "  # r**2\n",
        "  r_squ.append(model.score(x, y))\n",
        "  # intercept\n",
        "  intercept.append(model.intercept_)\n",
        "  # slope\n",
        "  slope.append(model.coef_)\n"
      ],
      "execution_count": null,
      "outputs": []
    },
    {
      "cell_type": "code",
      "metadata": {
        "id": "6kcfdkX0f-aD"
      },
      "source": [
        "# y_hat\n",
        "y_hat = intercept + slope * x"
      ],
      "execution_count": 97,
      "outputs": []
    },
    {
      "cell_type": "code",
      "metadata": {
        "colab": {
          "base_uri": "https://localhost:8080/"
        },
        "id": "AMKtnep6gCdb",
        "outputId": "f9aac91f-c2fa-4e2d-faf4-6aab18485615"
      },
      "source": [
        "print(y_hat.shape)\n",
        "print(y_hat[1:3,1:4,1:2])"
      ],
      "execution_count": 101,
      "outputs": [
        {
          "output_type": "stream",
          "text": [
            "(700, 700, 700)\n",
            "[[[50.04837181]\n",
            "  [49.91971497]\n",
            "  [50.05064804]]\n",
            "\n",
            " [[50.16077741]\n",
            "  [50.03212058]\n",
            "  [50.16305364]]]\n"
          ],
          "name": "stdout"
        }
      ]
    },
    {
      "cell_type": "code",
      "metadata": {
        "colab": {
          "base_uri": "https://localhost:8080/",
          "height": 301
        },
        "id": "XxMG-h5HZKnj",
        "outputId": "17aadb47-07d8-41e5-c08c-1ffb08edce79"
      },
      "source": [
        "# LAYER 2\n",
        "import matplotlib.pyplot as plt\n",
        "\n",
        "x = np.linspace(0, 700,700)\n",
        "y = r_squ\n",
        "#y = intercept\n",
        "\n",
        "print(x.shape)\n",
        "print(type(y))\n",
        "plt.plot(x, y, 'o', color='black');"
      ],
      "execution_count": 96,
      "outputs": [
        {
          "output_type": "stream",
          "text": [
            "(700,)\n",
            "<class 'list'>\n"
          ],
          "name": "stdout"
        },
        {
          "output_type": "display_data",
          "data": {
            "image/png": "[encoded data removed]",
            "text/plain": [
              "<Figure size 432x288 with 1 Axes>"
            ]
          },
          "metadata": {
            "tags": [],
            "needs_background": "light"
          }
        }
      ]
    },
    {
      "cell_type": "code",
      "metadata": {
        "id": "WftMYCJObYnM"
      },
      "source": [
        ""
      ],
      "execution_count": null,
      "outputs": []
    },
    {
      "cell_type": "code",
      "metadata": {
        "colab": {
          "base_uri": "https://localhost:8080/",
          "height": 301
        },
        "id": "nPhrfSeTStJA",
        "outputId": "8143f2bb-d950-41c3-c2cc-ca62f97c9333"
      },
      "source": [
        "# LAYER 1\n",
        "import matplotlib.pyplot as plt\n",
        "\n",
        "x = np.linspace(0, 700,700)\n",
        "y = r_squ\n",
        "#y = intercept\n",
        "\n",
        "print(x.shape)\n",
        "print(type(y))\n",
        "plt.plot(x, y, 'o', color='black');"
      ],
      "execution_count": 67,
      "outputs": [
        {
          "output_type": "stream",
          "text": [
            "(700,)\n",
            "<class 'list'>\n"
          ],
          "name": "stdout"
        },
        {
          "output_type": "display_data",
          "data": {
            "image/png": "[encoded data removed]",
            "text/plain": [
              "<Figure size 432x288 with 1 Axes>"
            ]
          },
          "metadata": {
            "tags": [],
            "needs_background": "light"
          }
        }
      ]
    },
    {
      "cell_type": "code",
      "metadata": {
        "id": "7n3tqaqYR_ZW"
      },
      "source": [
        "print(r_squ[:10])"
      ],
      "execution_count": null,
      "outputs": []
    }
  ]
}